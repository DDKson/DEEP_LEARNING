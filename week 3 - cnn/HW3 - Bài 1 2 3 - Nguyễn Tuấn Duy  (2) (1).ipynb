{
  "cells": [
    {
      "cell_type": "code",
      "execution_count": 2,
      "metadata": {
        "id": "Nx2pBmg3sLr8"
      },
      "outputs": [],
      "source": [
        "import numpy as np\n",
        "import pandas as pd\n",
        "import matplotlib.pyplot as plt"
      ]
    },
    {
      "cell_type": "markdown",
      "metadata": {
        "id": "Cnis9qPymh3f"
      },
      "source": [
        "# Câu 1:\n",
        "Tạo ra 1 bộ dataset từ 10 điểm dữ liệu sinh ra từ hàm y = x^2 + noise. Dùng sklearn fit hàm đa thức bậc 9 với dữ liệu trên. Sau đó thêm 100 dữ liệu nữa xem hàm đa thức bậc 9 như nào?"
      ]
    },
    {
      "cell_type": "code",
      "execution_count": 3,
      "metadata": {
        "id": "D5GZl21ksYd_"
      },
      "outputs": [],
      "source": [
        "def f(x):\n",
        "  return x**2 + np.random.rand()*2"
      ]
    },
    {
      "cell_type": "code",
      "execution_count": 5,
      "metadata": {
        "id": "ksUdZzQ_snXx"
      },
      "outputs": [],
      "source": [
        "df = pd.DataFrame()\n",
        "x_10 = []\n",
        "y_10 = []\n",
        "\n",
        "\n",
        "for i in range(-5, 5):\n",
        "  x_10.append(i)\n",
        "  y_10.append(f(i))\n",
        "\n",
        "x_100 = x_10.copy()\n",
        "y_100 = y_10.copy()\n",
        "\n",
        "for i in range(-50, 50):\n",
        "  x_100.append(i)\n",
        "  y_100.append(f(i))\n",
        "\n",
        "\n",
        "\n",
        "x_10 = np.array(x_10)\n",
        "y_10 = np.array(y_10)\n",
        "x_100 = np.array(x_100)\n",
        "y_100 = np.array(y_100)\n"
      ]
    },
    {
      "cell_type": "code",
      "execution_count": 6,
      "metadata": {
        "colab": {
          "base_uri": "https://localhost:8080/"
        },
        "id": "syllaHeQyi9z",
        "outputId": "c8f92c2f-0b3e-4d7b-a17d-886d0390f902"
      },
      "outputs": [
        {
          "data": {
            "text/plain": [
              "array([-5, -4, -3, -2, -1,  0,  1,  2,  3,  4])"
            ]
          },
          "execution_count": 6,
          "metadata": {},
          "output_type": "execute_result"
        }
      ],
      "source": [
        "x_10"
      ]
    },
    {
      "cell_type": "code",
      "execution_count": 7,
      "metadata": {
        "colab": {
          "base_uri": "https://localhost:8080/",
          "height": 448
        },
        "id": "gYQ6rIoAsp0v",
        "outputId": "3f498370-18f3-4e15-db21-f2945cec950c"
      },
      "outputs": [
        {
          "data": {
            "text/plain": [
              "<matplotlib.collections.PathCollection at 0x7f7a09b77550>"
            ]
          },
          "execution_count": 7,
          "metadata": {},
          "output_type": "execute_result"
        },
        {
          "data": {
            "image/png": "[encoded data removed]",
            "text/plain": [
              "<Figure size 640x480 with 1 Axes>"
            ]
          },
          "metadata": {},
          "output_type": "display_data"
        }
      ],
      "source": [
        "plt.scatter(x_10, y_10)"
      ]
    },
    {
      "cell_type": "code",
      "execution_count": 8,
      "metadata": {
        "colab": {
          "base_uri": "https://localhost:8080/",
          "height": 75
        },
        "id": "ntd4ROUttoEM",
        "outputId": "eb729f1f-ff15-4f32-ba5d-e9ad3db714c3"
      },
      "outputs": [
        {
          "data": {
            "text/html": [
              "<style>#sk-container-id-1 {color: black;background-color: white;}#sk-container-id-1 pre{padding: 0;}#sk-container-id-1 div.sk-toggleable {background-color: white;}#sk-container-id-1 label.sk-toggleable__label {cursor: pointer;display: block;width: 100%;margin-bottom: 0;padding: 0.3em;box-sizing: border-box;text-align: center;}#sk-container-id-1 label.sk-toggleable__label-arrow:before {content: \"▸\";float: left;margin-right: 0.25em;color: #696969;}#sk-container-id-1 label.sk-toggleable__label-arrow:hover:before {color: black;}#sk-container-id-1 div.sk-estimator:hover label.sk-toggleable__label-arrow:before {color: black;}#sk-container-id-1 div.sk-toggleable__content {max-height: 0;max-width: 0;overflow: hidden;text-align: left;background-color: #f0f8ff;}#sk-container-id-1 div.sk-toggleable__content pre {margin: 0.2em;color: black;border-radius: 0.25em;background-color: #f0f8ff;}#sk-container-id-1 input.sk-toggleable__control:checked~div.sk-toggleable__content {max-height: 200px;max-width: 100%;overflow: auto;}#sk-container-id-1 input.sk-toggleable__control:checked~label.sk-toggleable__label-arrow:before {content: \"▾\";}#sk-container-id-1 div.sk-estimator input.sk-toggleable__control:checked~label.sk-toggleable__label {background-color: #d4ebff;}#sk-container-id-1 div.sk-label input.sk-toggleable__control:checked~label.sk-toggleable__label {background-color: #d4ebff;}#sk-container-id-1 input.sk-hidden--visually {border: 0;clip: rect(1px 1px 1px 1px);clip: rect(1px, 1px, 1px, 1px);height: 1px;margin: -1px;overflow: hidden;padding: 0;position: absolute;width: 1px;}#sk-container-id-1 div.sk-estimator {font-family: monospace;background-color: #f0f8ff;border: 1px dotted black;border-radius: 0.25em;box-sizing: border-box;margin-bottom: 0.5em;}#sk-container-id-1 div.sk-estimator:hover {background-color: #d4ebff;}#sk-container-id-1 div.sk-parallel-item::after {content: \"\";width: 100%;border-bottom: 1px solid gray;flex-grow: 1;}#sk-container-id-1 div.sk-label:hover label.sk-toggleable__label {background-color: #d4ebff;}#sk-container-id-1 div.sk-serial::before {content: \"\";position: absolute;border-left: 1px solid gray;box-sizing: border-box;top: 0;bottom: 0;left: 50%;z-index: 0;}#sk-container-id-1 div.sk-serial {display: flex;flex-direction: column;align-items: center;background-color: white;padding-right: 0.2em;padding-left: 0.2em;position: relative;}#sk-container-id-1 div.sk-item {position: relative;z-index: 1;}#sk-container-id-1 div.sk-parallel {display: flex;align-items: stretch;justify-content: center;background-color: white;position: relative;}#sk-container-id-1 div.sk-item::before, #sk-container-id-1 div.sk-parallel-item::before {content: \"\";position: absolute;border-left: 1px solid gray;box-sizing: border-box;top: 0;bottom: 0;left: 50%;z-index: -1;}#sk-container-id-1 div.sk-parallel-item {display: flex;flex-direction: column;z-index: 1;position: relative;background-color: white;}#sk-container-id-1 div.sk-parallel-item:first-child::after {align-self: flex-end;width: 50%;}#sk-container-id-1 div.sk-parallel-item:last-child::after {align-self: flex-start;width: 50%;}#sk-container-id-1 div.sk-parallel-item:only-child::after {width: 0;}#sk-container-id-1 div.sk-dashed-wrapped {border: 1px dashed gray;margin: 0 0.4em 0.5em 0.4em;box-sizing: border-box;padding-bottom: 0.4em;background-color: white;}#sk-container-id-1 div.sk-label label {font-family: monospace;font-weight: bold;display: inline-block;line-height: 1.2em;}#sk-container-id-1 div.sk-label-container {text-align: center;}#sk-container-id-1 div.sk-container {/* jupyter's `normalize.less` sets `[hidden] { display: none; }` but bootstrap.min.css set `[hidden] { display: none !important; }` so we also need the `!important` here to be able to override the default hidden behavior on the sphinx rendered scikit-learn.org. See: https://github.com/scikit-learn/scikit-learn/issues/21755 */display: inline-block !important;position: relative;}#sk-container-id-1 div.sk-text-repr-fallback {display: none;}</style><div id=\"sk-container-id-1\" class=\"sk-top-container\"><div class=\"sk-text-repr-fallback\"><pre>LinearRegression()</pre><b>In a Jupyter environment, please rerun this cell to show the HTML representation or trust the notebook. <br />On GitHub, the HTML representation is unable to render, please try loading this page with nbviewer.org.</b></div><div class=\"sk-container\" hidden><div class=\"sk-item\"><div class=\"sk-estimator sk-toggleable\"><input class=\"sk-toggleable__control sk-hidden--visually\" id=\"sk-estimator-id-1\" type=\"checkbox\" checked><label for=\"sk-estimator-id-1\" class=\"sk-toggleable__label sk-toggleable__label-arrow\">LinearRegression</label><div class=\"sk-toggleable__content\"><pre>LinearRegression()</pre></div></div></div></div></div>"
            ],
            "text/plain": [
              "LinearRegression()"
            ]
          },
          "execution_count": 8,
          "metadata": {},
          "output_type": "execute_result"
        }
      ],
      "source": [
        "from sklearn.preprocessing import PolynomialFeatures\n",
        "from sklearn.linear_model import LinearRegression\n",
        "\n",
        "pf = PolynomialFeatures(degree = 9)\n",
        "X_10_poly = pf.fit_transform(x_10.reshape(-1, 1))\n",
        "X_100_poly = pf.fit_transform(x_100.reshape(-1, 1))\n",
        "\n",
        "regress = LinearRegression()\n",
        "regress.fit(X_10_poly, y_10)"
      ]
    },
    {
      "cell_type": "code",
      "execution_count": 9,
      "metadata": {
        "colab": {
          "base_uri": "https://localhost:8080/",
          "height": 448
        },
        "id": "Big3hOdqYEA2",
        "outputId": "ba407e7e-b200-4b3a-b307-2af0bad94198"
      },
      "outputs": [
        {
          "data": {
            "text/plain": [
              "<matplotlib.legend.Legend at 0x7f7a2fd37970>"
            ]
          },
          "execution_count": 9,
          "metadata": {},
          "output_type": "execute_result"
        },
        {
          "data": {
            "image/png": "[encoded data removed]",
            "text/plain": [
              "<Figure size 640x480 with 1 Axes>"
            ]
          },
          "metadata": {},
          "output_type": "display_data"
        }
      ],
      "source": [
        "plt.scatter(x_10, y_10, label = \"Actual data points of first 10 points\")\n",
        "plt.plot(x_10, regress.predict(X_10_poly), label = \"Regress on first 10 points\", color = \"red\")\n",
        "\n",
        "plt.legend()"
      ]
    },
    {
      "cell_type": "code",
      "execution_count": 10,
      "metadata": {
        "colab": {
          "base_uri": "https://localhost:8080/",
          "height": 463
        },
        "id": "jzZytSJPy_tz",
        "outputId": "3da748d2-9fde-4b9d-8809-4fb37dfc1c76"
      },
      "outputs": [
        {
          "data": {
            "text/plain": [
              "<matplotlib.legend.Legend at 0x7f79fd613fa0>"
            ]
          },
          "execution_count": 10,
          "metadata": {},
          "output_type": "execute_result"
        },
        {
          "data": {
            "image/png": "[encoded data removed]",
            "text/plain": [
              "<Figure size 640x480 with 1 Axes>"
            ]
          },
          "metadata": {},
          "output_type": "display_data"
        }
      ],
      "source": [
        "# regress.fit(X_100_poly, y_100)\n",
        "plt.scatter(x_100, y_100, label = \"Actual data points of new 100 points\")\n",
        "plt.plot(x_100, regress.predict(X_100_poly), label = \"Regress on new 100 points\", color = \"red\")\n",
        "\n",
        "plt.legend()"
      ]
    },
    {
      "cell_type": "code",
      "execution_count": 11,
      "metadata": {
        "id": "IgCrEwbraKNL"
      },
      "outputs": [],
      "source": [
        "from sklearn.metrics import mean_squared_error"
      ]
    },
    {
      "cell_type": "markdown",
      "metadata": {
        "id": "6sD_FCXqmlfK"
      },
      "source": [
        "- Hãy báo cáo MSE và vẽ đồ thị trong hai trường hợp (10 điểm dữ liệu ban đầu và 100 điểm dữ liệu sau)"
      ]
    },
    {
      "cell_type": "code",
      "execution_count": 12,
      "metadata": {
        "colab": {
          "base_uri": "https://localhost:8080/",
          "height": 81
        },
        "id": "jw3Gkepghhu-",
        "outputId": "38e7d78c-fc11-4d92-c6b8-b9a59c84ed76"
      },
      "outputs": [
        {
          "data": {
            "text/html": [
              "\n",
              "  <div id=\"df-4e9f883a-88b9-47b3-bf7d-51dc7c2df625\" class=\"colab-df-container\">\n",
              "    <div>\n",
              "<style scoped>\n",
              "    .dataframe tbody tr th:only-of-type {\n",
              "        vertical-align: middle;\n",
              "    }\n",
              "\n",
              "    .dataframe tbody tr th {\n",
              "        vertical-align: top;\n",
              "    }\n",
              "\n",
              "    .dataframe thead th {\n",
              "        text-align: right;\n",
              "    }\n",
              "</style>\n",
              "<table border=\"1\" class=\"dataframe\">\n",
              "  <thead>\n",
              "    <tr style=\"text-align: right;\">\n",
              "      <th></th>\n",
              "      <th>first 10 points</th>\n",
              "      <th>last 100 points</th>\n",
              "    </tr>\n",
              "  </thead>\n",
              "  <tbody>\n",
              "    <tr>\n",
              "      <th>0</th>\n",
              "      <td>1.450610e-23</td>\n",
              "      <td>3.809456e+22</td>\n",
              "    </tr>\n",
              "  </tbody>\n",
              "</table>\n",
              "</div>\n",
              "    <div class=\"colab-df-buttons\">\n",
              "\n",
              "  <div class=\"colab-df-container\">\n",
              "    <button class=\"colab-df-convert\" onclick=\"convertToInteractive('df-4e9f883a-88b9-47b3-bf7d-51dc7c2df625')\"\n",
              "            title=\"Convert this dataframe to an interactive table.\"\n",
              "            style=\"display:none;\">\n",
              "\n",
              "  <svg xmlns=\"http://www.w3.org/2000/svg\" height=\"24px\" viewBox=\"0 -960 960 960\">\n",
              "    <path d=\"M120-120v-720h720v720H120Zm60-500h600v-160H180v160Zm220 220h160v-160H400v160Zm0 220h160v-160H400v160ZM180-400h160v-160H180v160Zm440 0h160v-160H620v160ZM180-180h160v-160H180v160Zm440 0h160v-160H620v160Z\"/>\n",
              "  </svg>\n",
              "    </button>\n",
              "\n",
              "  <style>\n",
              "    .colab-df-container {\n",
              "      display:flex;\n",
              "      gap: 12px;\n",
              "    }\n",
              "\n",
              "    .colab-df-convert {\n",
              "      background-color: #E8F0FE;\n",
              "      border: none;\n",
              "      border-radius: 50%;\n",
              "      cursor: pointer;\n",
              "      display: none;\n",
              "      fill: #1967D2;\n",
              "      height: 32px;\n",
              "      padding: 0 0 0 0;\n",
              "      width: 32px;\n",
              "    }\n",
              "\n",
              "    .colab-df-convert:hover {\n",
              "      background-color: #E2EBFA;\n",
              "      box-shadow: 0px 1px 2px rgba(60, 64, 67, 0.3), 0px 1px 3px 1px rgba(60, 64, 67, 0.15);\n",
              "      fill: #174EA6;\n",
              "    }\n",
              "\n",
              "    .colab-df-buttons div {\n",
              "      margin-bottom: 4px;\n",
              "    }\n",
              "\n",
              "    [theme=dark] .colab-df-convert {\n",
              "      background-color: #3B4455;\n",
              "      fill: #D2E3FC;\n",
              "    }\n",
              "\n",
              "    [theme=dark] .colab-df-convert:hover {\n",
              "      background-color: #434B5C;\n",
              "      box-shadow: 0px 1px 3px 1px rgba(0, 0, 0, 0.15);\n",
              "      filter: drop-shadow(0px 1px 2px rgba(0, 0, 0, 0.3));\n",
              "      fill: #FFFFFF;\n",
              "    }\n",
              "  </style>\n",
              "\n",
              "    <script>\n",
              "      const buttonEl =\n",
              "        document.querySelector('#df-4e9f883a-88b9-47b3-bf7d-51dc7c2df625 button.colab-df-convert');\n",
              "      buttonEl.style.display =\n",
              "        google.colab.kernel.accessAllowed ? 'block' : 'none';\n",
              "\n",
              "      async function convertToInteractive(key) {\n",
              "        const element = document.querySelector('#df-4e9f883a-88b9-47b3-bf7d-51dc7c2df625');\n",
              "        const dataTable =\n",
              "          await google.colab.kernel.invokeFunction('convertToInteractive',\n",
              "                                                    [key], {});\n",
              "        if (!dataTable) return;\n",
              "\n",
              "        const docLinkHtml = 'Like what you see? Visit the ' +\n",
              "          '<a target=\"_blank\" href=https://colab.research.google.com/notebooks/data_table.ipynb>data table notebook</a>'\n",
              "          + ' to learn more about interactive tables.';\n",
              "        element.innerHTML = '';\n",
              "        dataTable['output_type'] = 'display_data';\n",
              "        await google.colab.output.renderOutput(dataTable, element);\n",
              "        const docLink = document.createElement('div');\n",
              "        docLink.innerHTML = docLinkHtml;\n",
              "        element.appendChild(docLink);\n",
              "      }\n",
              "    </script>\n",
              "  </div>\n",
              "\n",
              "    </div>\n",
              "  </div>\n"
            ],
            "text/plain": [
              "   first 10 points  last 100 points\n",
              "0     1.450610e-23     3.809456e+22"
            ]
          },
          "execution_count": 12,
          "metadata": {},
          "output_type": "execute_result"
        }
      ],
      "source": [
        "eval_df = pd.DataFrame()\n",
        "eval_df[\"first 10 points\"] = [mean_squared_error(y_10, regress.predict(X_10_poly))]\n",
        "eval_df[\"last 100 points\"] = [mean_squared_error(y_100, regress.predict(X_100_poly))]\n",
        "eval_df"
      ]
    },
    {
      "cell_type": "markdown",
      "metadata": {
        "id": "RJmJbr4HmqNj"
      },
      "source": [
        "- Hiện tượng gì đang xảy ra?"
      ]
    },
    {
      "cell_type": "markdown",
      "metadata": {
        "id": "rXBaTCFZk1x4"
      },
      "source": [
        "Trong trường hợp 10 điểm dữ liệu ban đầu mse rất nhỏ còn khi thêm 100 điểm sau model cho mse rất cao. Điều này cho thấy model đang bị overfit, lúc này hàm đa thức bậc 9 quá phức tạp và các hệ số được điều chỉnh để fit với 10 điểm ban đầu nhưng với 100 điểm sau thì hàm không đủ khái quát để dự đoán các điểm này."
      ]
    },
    {
      "cell_type": "markdown",
      "metadata": {
        "id": "hvuvALtIm-tb"
      },
      "source": [
        "# Câu 2: Code from scratch\n",
        "Implement hàm tính convolution\n",
        "- Input: X, W, stride, padding\n",
        "- Output: Y\n"
      ]
    },
    {
      "cell_type": "code",
      "execution_count": 13,
      "metadata": {
        "id": "pKPn3SnQm7Bm"
      },
      "outputs": [],
      "source": [
        "import torch\n",
        "import torch.nn as nn"
      ]
    },
    {
      "cell_type": "code",
      "execution_count": 14,
      "metadata": {
        "id": "2i5xPauvpraJ"
      },
      "outputs": [],
      "source": [
        "def pad(X, padding):\n",
        "  output = np.zeros((X.shape[0] + padding[0] * 2, X.shape[1] + padding[1] * 2))\n",
        "  if padding[0] + padding[1] > 0:\n",
        "    output[padding[0]:-(padding[0]), padding[1]:-(padding[1])] = X\n",
        "  else:\n",
        "    output = X\n",
        "  return output\n",
        "\n",
        "\n",
        "def convolution(X, W, stride, padding):\n",
        "  padded = pad(X, padding)\n",
        "  output_height = int(((X.shape[0] - W.shape[0] + 2 * padding[0]) / stride[0]) + 1)\n",
        "  output_width = int(((X.shape[1] - W.shape[1] + 2 * padding[1]) / stride[1]) + 1)\n",
        "  out = np.zeros((output_height, output_width))\n",
        "  for y in range(0, output_width):\n",
        "      for x in range(0, output_height):\n",
        "        out[x, y] = np.sum(padded[x * stride[0] : x * stride[0] + W.shape[0], y * stride[1]:y * stride[1] + W.shape[1]] * W)\n",
        "  return out"
      ]
    },
    {
      "cell_type": "code",
      "execution_count": 15,
      "metadata": {
        "id": "cEpEmBj4riJs"
      },
      "outputs": [],
      "source": [
        "X = np.array([[1., 0., 1., 1., 1., 0, 0., 1., 1., 1.],\n",
        "       [1., 1., 1., 0., 1., 1., 0., 1., 0., 1.],\n",
        "       [1., 1., 1., 1., 1., 1., 1., 1., 1., 1.],\n",
        "       [1., 0., 1., 0., 1., 1., 0., 1., 1., 1.],\n",
        "       [1., 1., 0., 0., 0., 0., 0., 1., 0., 1.],\n",
        "       [1., 1., 1., 1., 0., 1., 1., 1., 1., 1.],\n",
        "       [1., 1., 0., 1., 1., 0., 0., 1., 0., 1.],\n",
        "       [1., 1., 0., 1., 0., 1., 1., 1., 1., 1.],\n",
        "       [1., 1., 1., 1., 0., 1., 1., 1., 1., 0.],\n",
        "       [1., 1., 1., 1., 1., 1., 1., 1., 1., 1.]])\n",
        "W = np.array([[1, 0, 1],\n",
        "              [0, 0, 0],\n",
        "              [1, 1,1]])"
      ]
    },
    {
      "cell_type": "code",
      "execution_count": 16,
      "metadata": {
        "colab": {
          "base_uri": "https://localhost:8080/"
        },
        "id": "eWWkuts92RXr",
        "outputId": "47de6632-4db1-4369-c17e-374974dc64f7"
      },
      "outputs": [
        {
          "data": {
            "text/plain": [
              "(2, 3)"
            ]
          },
          "execution_count": 16,
          "metadata": {},
          "output_type": "execute_result"
        }
      ],
      "source": [
        "np.array([[1, 0, 1],\n",
        "              [0, 0, 0]]).shape"
      ]
    },
    {
      "cell_type": "code",
      "execution_count": 16,
      "metadata": {
        "id": "qjBi6PKK8I1h"
      },
      "outputs": [],
      "source": []
    },
    {
      "cell_type": "code",
      "execution_count": 17,
      "metadata": {
        "colab": {
          "base_uri": "https://localhost:8080/"
        },
        "id": "s56C_ADtuj9-",
        "outputId": "04e1e213-8572-4bc4-ce30-c02fc9cee707"
      },
      "outputs": [
        {
          "name": "stdout",
          "output_type": "stream",
          "text": [
            "Output Shape from pytorch: torch.Size([1, 1, 5, 12])\n",
            "Output from pytorch \n",
            " tensor([[[[1., 2., 3., 2., 2., 2., 2., 2., 1., 2., 1., 1.],\n",
            "          [2., 2., 4., 2., 4., 3., 3., 4., 2., 5., 2., 2.],\n",
            "          [2., 2., 5., 3., 4., 3., 3., 5., 4., 5., 3., 2.],\n",
            "          [2., 3., 4., 4., 2., 4., 3., 5., 5., 5., 3., 2.],\n",
            "          [2., 3., 4., 5., 3., 5., 4., 5., 5., 5., 3., 2.]]]],\n",
            "       grad_fn=<ConvolutionBackward0>)\n",
            "Output Shape from implemented function: (5, 12)\n",
            "Output from from implemented function \n",
            " [[1. 2. 3. 2. 2. 2. 2. 2. 1. 2. 1. 1.]\n",
            " [2. 2. 4. 2. 4. 3. 3. 4. 2. 5. 2. 2.]\n",
            " [2. 2. 5. 3. 4. 3. 3. 5. 4. 5. 3. 2.]\n",
            " [2. 3. 4. 4. 2. 4. 3. 5. 5. 5. 3. 2.]\n",
            " [2. 3. 4. 5. 3. 5. 4. 5. 5. 5. 3. 2.]]\n",
            "Is two output the same?:  True\n"
          ]
        }
      ],
      "source": [
        "kernel = torch.tensor(\n",
        "              [[1, 0, 1],\n",
        "              [0, 0, 0],\n",
        "              [1, 1,1]], dtype=torch.float32)\n",
        "kernel = kernel.reshape(1, 1, 3, 3)\n",
        "\n",
        "image = torch.tensor(\n",
        "      [[1., 0., 1., 1., 1., 0, 0., 1., 1., 1.],\n",
        "       [1., 1., 1., 0., 1., 1., 0., 1., 0., 1.],\n",
        "       [1., 1., 1., 1., 1., 1., 1., 1., 1., 1.],\n",
        "       [1., 0., 1., 0., 1., 1., 0., 1., 1., 1.],\n",
        "       [1., 1., 0., 0., 0., 0., 0., 1., 0., 1.],\n",
        "       [1., 1., 1., 1., 0., 1., 1., 1., 1., 1.],\n",
        "       [1., 1., 0., 1., 1., 0., 0., 1., 0., 1.],\n",
        "       [1., 1., 0., 1., 0., 1., 1., 1., 1., 1.],\n",
        "       [1., 1., 1., 1., 0., 1., 1., 1., 1., 0.],\n",
        "       [1., 1., 1., 1., 1., 1., 1., 1., 1., 1.]], dtype=torch.float32)\n",
        "image = image.reshape(1, 1, 10, 10)\n",
        "\n",
        "conv = nn.Conv2d(in_channels=1, out_channels=1, kernel_size=3, padding = (1, 2), stride = (2, 1), bias=False)\n",
        "\n",
        "conv.weight = nn.Parameter(kernel)\n",
        "output = conv(image)\n",
        "\n",
        "print('Output Shape from pytorch:',output.shape)\n",
        "print('Output from pytorch \\n',output)\n",
        "\n",
        "output_implement = convolution(X,W, stride = (2, 1), padding = (1, 2))\n",
        "\n",
        "print('Output Shape from implemented function:',output_implement.shape)\n",
        "print('Output from from implemented function \\n',output_implement)\n",
        "print('Is two output the same?: ', np.array_equal(output.detach().numpy().reshape(output_implement.shape), output_implement))"
      ]
    },
    {
      "cell_type": "code",
      "execution_count": 18,
      "metadata": {
        "colab": {
          "base_uri": "https://localhost:8080/"
        },
        "id": "5z-gGm5SukSL",
        "outputId": "868a6425-f168-4c70-9af3-d49b2947ea0d"
      },
      "outputs": [
        {
          "name": "stdout",
          "output_type": "stream",
          "text": [
            "Output Shape from pytorch: torch.Size([1, 1, 6, 4])\n",
            "Output from pytorch \n",
            " tensor([[[[1., 2., 1., 3.],\n",
            "          [2., 4., 4., 5.],\n",
            "          [2., 3., 2., 4.],\n",
            "          [2., 3., 1., 4.],\n",
            "          [2., 5., 3., 4.],\n",
            "          [1., 2., 1., 1.]]]], grad_fn=<ConvolutionBackward0>)\n",
            "Output Shape from implemented function: (6, 4)\n",
            "Output from from implemented function \n",
            " [[1. 2. 1. 3.]\n",
            " [2. 4. 4. 5.]\n",
            " [2. 3. 2. 4.]\n",
            " [2. 3. 1. 4.]\n",
            " [2. 5. 3. 4.]\n",
            " [1. 2. 1. 1.]]\n",
            "Is two output the same?:  True\n"
          ]
        }
      ],
      "source": [
        "conv = nn.Conv2d(in_channels=1, out_channels=1, kernel_size=3, padding = (2, 2), stride = (2, 3), bias=False)\n",
        "\n",
        "conv.weight = nn.Parameter(kernel)\n",
        "output = conv(image)\n",
        "\n",
        "print('Output Shape from pytorch:',output.shape)\n",
        "print('Output from pytorch \\n',output)\n",
        "\n",
        "output_implement = convolution(X,W, stride = (2, 3), padding = (2, 2))\n",
        "\n",
        "print('Output Shape from implemented function:',output_implement.shape)\n",
        "print('Output from from implemented function \\n',output_implement)\n",
        "print('Is two output the same?: ', np.array_equal(output.detach().numpy().reshape(output_implement.shape), output_implement))"
      ]
    },
    {
      "cell_type": "code",
      "execution_count": 19,
      "metadata": {
        "colab": {
          "base_uri": "https://localhost:8080/"
        },
        "id": "6BRqOx0n80w6",
        "outputId": "a7f00fc8-7ee0-45ce-8b20-346c774a0d85"
      },
      "outputs": [
        {
          "name": "stdout",
          "output_type": "stream",
          "text": [
            "Output Shape from pytorch: torch.Size([1, 1, 8, 8])\n",
            "Output from pytorch \n",
            " tensor([[[[5., 4., 5., 4., 4., 4., 4., 5.],\n",
            "          [4., 2., 4., 3., 3., 4., 2., 5.],\n",
            "          [4., 3., 2., 2., 2., 3., 3., 4.],\n",
            "          [5., 3., 4., 3., 3., 5., 4., 5.],\n",
            "          [3., 3., 2., 2., 1., 2., 1., 4.],\n",
            "          [4., 4., 2., 4., 3., 5., 5., 5.],\n",
            "          [4., 5., 3., 3., 3., 4., 3., 4.],\n",
            "          [4., 5., 3., 5., 4., 5., 5., 5.]]]], grad_fn=<ConvolutionBackward0>)\n",
            "Output Shape from implemented function: (8, 8)\n",
            "Output from from implemented function \n",
            " [[5. 4. 5. 4. 4. 4. 4. 5.]\n",
            " [4. 2. 4. 3. 3. 4. 2. 5.]\n",
            " [4. 3. 2. 2. 2. 3. 3. 4.]\n",
            " [5. 3. 4. 3. 3. 5. 4. 5.]\n",
            " [3. 3. 2. 2. 1. 2. 1. 4.]\n",
            " [4. 4. 2. 4. 3. 5. 5. 5.]\n",
            " [4. 5. 3. 3. 3. 4. 3. 4.]\n",
            " [4. 5. 3. 5. 4. 5. 5. 5.]]\n",
            "Is two output the same?:  True\n"
          ]
        }
      ],
      "source": [
        "conv = nn.Conv2d(in_channels=1, out_channels=1, kernel_size=3, padding = (0, 0), stride = (1, 1), bias=False)\n",
        "\n",
        "conv.weight = nn.Parameter(kernel)\n",
        "output = conv(image)\n",
        "\n",
        "print('Output Shape from pytorch:',output.shape)\n",
        "print('Output from pytorch \\n',output)\n",
        "\n",
        "output_implement = convolution(X,W, stride = (1, 1), padding = (0, 0))\n",
        "\n",
        "print('Output Shape from implemented function:',output_implement.shape)\n",
        "print('Output from from implemented function \\n',output_implement)\n",
        "print('Is two output the same?: ', np.array_equal(output.detach().numpy().reshape(output_implement.shape), output_implement))"
      ]
    },
    {
      "cell_type": "markdown",
      "metadata": {
        "id": "VP-lpqBx-7hS"
      },
      "source": [
        "# Câu 3:\n",
        "Cho dataset CIFAR-10\n",
        "Implement 1 model tương tự VGG16 (có thể nông hơn) với dữ liệu trên sử dụng Pytorch\n",
        "\n"
      ]
    },
    {
      "cell_type": "code",
      "execution_count": 20,
      "metadata": {
        "colab": {
          "base_uri": "https://localhost:8080/"
        },
        "id": "__aMecl6-69f",
        "outputId": "e9203591-879e-4862-ca61-cc30e8db7bfd"
      },
      "outputs": [
        {
          "name": "stdout",
          "output_type": "stream",
          "text": [
            "Downloading https://www.cs.toronto.edu/~kriz/cifar-10-python.tar.gz to ./cifar-10-python.tar.gz\n"
          ]
        },
        {
          "name": "stderr",
          "output_type": "stream",
          "text": [
            "100%|██████████| 170498071/170498071 [00:03<00:00, 44143773.36it/s]\n"
          ]
        },
        {
          "name": "stdout",
          "output_type": "stream",
          "text": [
            "Extracting ./cifar-10-python.tar.gz to .\n"
          ]
        }
      ],
      "source": [
        "from torchvision import datasets\n",
        "from torchvision import transforms\n",
        "to_tensor = transforms.ToTensor()\n",
        "cifar = datasets.CIFAR10(root = \".\", train = True, download = True, transform=transforms.ToTensor())"
      ]
    },
    {
      "cell_type": "code",
      "execution_count": 22,
      "metadata": {
        "colab": {
          "base_uri": "https://localhost:8080/",
          "height": 406
        },
        "id": "axyrLLzjDusP",
        "outputId": "2181b7a2-1bf1-47c6-dfa9-14026611c07e"
      },
      "outputs": [
        {
          "data": {
            "image/png": "[encoded data removed]",
            "text/plain": [
              "<Figure size 640x480 with 1 Axes>"
            ]
          },
          "metadata": {},
          "output_type": "display_data"
        }
      ],
      "source": [
        "image = cifar[99][0]\n",
        "plt.imshow(image.permute(1, 2, 0))\n",
        "plt.axis(\"off\")\n",
        "plt.show()"
      ]
    },
    {
      "cell_type": "code",
      "execution_count": 23,
      "metadata": {
        "colab": {
          "base_uri": "https://localhost:8080/"
        },
        "id": "xCsKE7j0D3WV",
        "outputId": "20db2475-ae80-4167-effb-436ccddf4277"
      },
      "outputs": [
        {
          "data": {
            "text/plain": [
              "(tensor(0.), tensor(1.))"
            ]
          },
          "execution_count": 23,
          "metadata": {},
          "output_type": "execute_result"
        }
      ],
      "source": [
        "image.min(), image.max()"
      ]
    },
    {
      "cell_type": "code",
      "execution_count": 24,
      "metadata": {
        "colab": {
          "base_uri": "https://localhost:8080/"
        },
        "id": "6sCaUqWmX-dK",
        "outputId": "cf82b139-5025-467e-9058-af8966cbcfd2"
      },
      "outputs": [
        {
          "data": {
            "text/plain": [
              "torch.Size([3, 32, 32, 50000])"
            ]
          },
          "execution_count": 24,
          "metadata": {},
          "output_type": "execute_result"
        }
      ],
      "source": [
        " images = torch.stack([img for img, _ in cifar], dim = 3)\n",
        " images.shape"
      ]
    },
    {
      "cell_type": "code",
      "execution_count": 25,
      "metadata": {
        "id": "2JMz_b7-ehHX"
      },
      "outputs": [],
      "source": [
        "normalize = transforms.Normalize(images.view(3, -1).mean(dim = 1), images.view(3, -1).std(dim = 1))\n",
        "cifar_normalized_train = datasets.CIFAR10(root = \".\", train = True, download = False, transform=transforms.Compose([to_tensor, normalize]))\n",
        "cifar_normalized_test = datasets.CIFAR10(root = \".\", train = False, download = False, transform=transforms.Compose([to_tensor, normalize]))\n",
        "device = torch.device('cuda' if torch.cuda.is_available() else 'cpu')"
      ]
    },
    {
      "cell_type": "code",
      "execution_count": 26,
      "metadata": {
        "colab": {
          "base_uri": "https://localhost:8080/",
          "height": 424
        },
        "id": "7a2d0vpzfLn_",
        "outputId": "f262c579-79fe-4dbb-ca8f-d7c8f3656c2a"
      },
      "outputs": [
        {
          "name": "stderr",
          "output_type": "stream",
          "text": [
            "WARNING:matplotlib.image:Clipping input data to the valid range for imshow with RGB data ([0..1] for floats or [0..255] for integers).\n"
          ]
        },
        {
          "data": {
            "image/png": "[encoded data removed]",
            "text/plain": [
              "<Figure size 640x480 with 1 Axes>"
            ]
          },
          "metadata": {},
          "output_type": "display_data"
        }
      ],
      "source": [
        "image = cifar_normalized_train[99][0]\n",
        "plt.imshow(image.permute(1, 2, 0))\n",
        "plt.axis(\"off\")\n",
        "plt.show()"
      ]
    },
    {
      "cell_type": "code",
      "execution_count": 28,
      "metadata": {
        "colab": {
          "base_uri": "https://localhost:8080/",
          "height": 424
        },
        "id": "dxu2xidEfYR5",
        "outputId": "9902df9e-05f9-4116-dc15-a3fc84ad897e"
      },
      "outputs": [
        {
          "name": "stderr",
          "output_type": "stream",
          "text": [
            "WARNING:matplotlib.image:Clipping input data to the valid range for imshow with RGB data ([0..1] for floats or [0..255] for integers).\n"
          ]
        },
        {
          "data": {
            "image/png": "[encoded data removed]",
            "text/plain": [
              "<Figure size 640x480 with 1 Axes>"
            ]
          },
          "metadata": {},
          "output_type": "display_data"
        }
      ],
      "source": [
        "image = cifar_normalized_test[99][0]\n",
        "plt.imshow(image.permute(1, 2, 0))\n",
        "plt.axis(\"off\")\n",
        "plt.show()"
      ]
    },
    {
      "cell_type": "code",
      "execution_count": 27,
      "metadata": {
        "colab": {
          "base_uri": "https://localhost:8080/"
        },
        "id": "knRpqbic4MmV",
        "outputId": "3eee5d6b-58b8-43db-91bd-bc4a44c0447f"
      },
      "outputs": [
        {
          "data": {
            "text/plain": [
              "torch.Size([3, 32, 32])"
            ]
          },
          "execution_count": 27,
          "metadata": {},
          "output_type": "execute_result"
        }
      ],
      "source": [
        "image.shape"
      ]
    },
    {
      "cell_type": "code",
      "execution_count": null,
      "metadata": {
        "id": "yznpPBhEpjRp"
      },
      "outputs": [],
      "source": [
        "from torch.utils.data import DataLoader\n",
        "train_loader = DataLoader(cifar_normalized_train, batch_size = batch_size, shuffle = True)\n",
        "test_loader = DataLoader(cifar_normalized_test, batch_size = 1, shuffle = False)"
      ]
    },
    {
      "cell_type": "code",
      "execution_count": 86,
      "metadata": {
        "id": "JTunuHx0kBc3"
      },
      "outputs": [],
      "source": [
        "from torch.nn.modules.pooling import MaxPool2d\n",
        "from collections import OrderedDict\n",
        "\n",
        "class VGG16(nn.Module): # 3 convolution layers\n",
        "  def __init__(self, numclasses):\n",
        "    super().__init__()\n",
        "    self.features = nn.Sequential(\n",
        "        # conv 1\n",
        "        nn.Conv2d(3, 64, 3, padding = 1), # conv 1_1\n",
        "        nn.Tanh(),\n",
        "        nn.Conv2d(64, 64, 3, padding = 1), # conv 1_2\n",
        "        nn.Tanh(),\n",
        "        nn.MaxPool2d(2, stride = 2, return_indices = True),\n",
        "        # conv 2\n",
        "        nn.Conv2d(64, 128, 3, padding = 1), # conv 2_1\n",
        "        nn.Tanh(),\n",
        "        nn.Conv2d(128, 128, 3, padding = 1), # conv 2_2\n",
        "        nn.Tanh(),\n",
        "        nn.MaxPool2d(2, stride = 2, return_indices = True),\n",
        "        # conv 3\n",
        "        nn.Conv2d(128, 256, 3, padding = 1), # conv 3_1\n",
        "        nn.Tanh(),\n",
        "        nn.Conv2d(256, 256, 3, padding = 1), # conv 3_2\n",
        "        nn.Tanh(),\n",
        "        nn.Conv2d(256, 256, 3, padding = 1), # conv 3_3\n",
        "        nn.Tanh(),\n",
        "        nn.MaxPool2d(2, stride = 2, return_indices = True)\n",
        "    )\n",
        "    self.classifier = nn.Sequential(\n",
        "        nn.Dropout(),\n",
        "        nn.Linear(4096, 4096),\n",
        "        nn.ReLU(),\n",
        "        nn.Linear(4096, numclasses))\n",
        "    self.conv_layer_indices = [0, 2, 5, 7, 10, 12, 14, 17, 19, 21, 24, 26, 28]\n",
        "    self.feature_maps = OrderedDict()\n",
        "    self.pool_locs = OrderedDict()\n",
        "\n",
        "  def forward(self, x):\n",
        "      for layer in self.features:\n",
        "        if isinstance(layer, nn.MaxPool2d):\n",
        "            x, location = layer(x)\n",
        "\n",
        "        else:\n",
        "            x = layer(x)\n",
        "\n",
        "      x = x.reshape(x.size(0), -1)\n",
        "      x = self.classifier(x)\n",
        "      return x"
      ]
    },
    {
      "cell_type": "code",
      "execution_count": 98,
      "metadata": {
        "id": "sxNKIMcpTVPe"
      },
      "outputs": [],
      "source": [
        "def plot_loss(losses, lr, iter):\n",
        "  fig, ax = plt.subplots()\n",
        "  ax.plot(range(1, iter + 1), losses)\n",
        "  ax.set_title(f\"loss of NeuralNetworkClassifier learning rate {lr}\")"
      ]
    },
    {
      "cell_type": "markdown",
      "metadata": {
        "id": "RhC7zeq-Z8NC"
      },
      "source": [
        "- Chỉnh learning rate, vẽ đồ thị loss tương ứng."
      ]
    },
    {
      "cell_type": "code",
      "execution_count": 104,
      "metadata": {
        "id": "2DOgUgaJn-zJ"
      },
      "outputs": [],
      "source": [
        "def training_loop(n_epochs, optimizer, model, loss_fn, train_loader, val_loader):\n",
        "  losses = []\n",
        "  for epoch in range(1, n_epochs + 1):\n",
        "      loss_train = 0.0\n",
        "      for imgs, labels in train_loader:\n",
        "          imgs = imgs.to(device)\n",
        "          labels = labels.to(device)\n",
        "          outputs = model(imgs)\n",
        "          loss = loss_fn(outputs, labels)\n",
        "          optimizer.zero_grad()\n",
        "          loss.backward()\n",
        "          optimizer.step()\n",
        "          loss_train += loss.item()\n",
        "      print ('Epoch [{}/{}], Loss: {:.4f}'\n",
        "          .format(epoch+1, n_epochs, loss_train / len(train_loader)))\n",
        "      losses.append(loss_train)\n",
        "\n",
        "  return losses"
      ]
    },
    {
      "cell_type": "code",
      "execution_count": 106,
      "metadata": {
        "colab": {
          "base_uri": "https://localhost:8080/",
          "height": 544
        },
        "id": "tw7vewOT3Ncn",
        "outputId": "f24ddb29-59f6-493e-858a-846193a734ff"
      },
      "outputs": [
        {
          "name": "stdout",
          "output_type": "stream",
          "text": [
            "Epoch [2/5], Loss: 2.3023\n",
            "Epoch [3/5], Loss: 2.3015\n",
            "Epoch [4/5], Loss: 2.3003\n",
            "Epoch [5/5], Loss: 2.2983\n",
            "Epoch [6/5], Loss: 2.2942\n"
          ]
        },
        {
          "data": {
            "image/png": "[encoded data removed]",
            "text/plain": [
              "<Figure size 640x480 with 1 Axes>"
            ]
          },
          "metadata": {},
          "output_type": "display_data"
        }
      ],
      "source": [
        "num_classes = 10\n",
        "num_epochs = 5\n",
        "batch_size = 64\n",
        "learning_rate = 0.001\n",
        "\n",
        "model = VGG16(10).to(device)\n",
        "optimizer = torch.optim.SGD(model.parameters(), lr=learning_rate)\n",
        "loss_fn = nn.CrossEntropyLoss()\n",
        "\n",
        "losses = training_loop(\n",
        "    n_epochs = num_epochs,\n",
        "    optimizer = optimizer,\n",
        "    model = model,\n",
        "    loss_fn = loss_fn,\n",
        "    train_loader = train_loader,\n",
        "    val_loader = test_loader\n",
        ")\n",
        "plot_loss(losses, learning_rate, num_epochs)"
      ]
    },
    {
      "cell_type": "code",
      "execution_count": 109,
      "metadata": {
        "colab": {
          "base_uri": "https://localhost:8080/",
          "height": 544
        },
        "id": "uv1q8Vr7UFBM",
        "outputId": "e95b4b49-80a6-418d-b539-18f5e53c525d"
      },
      "outputs": [
        {
          "name": "stdout",
          "output_type": "stream",
          "text": [
            "Epoch [2/5], Loss: 1.9413\n",
            "Epoch [3/5], Loss: 1.4433\n",
            "Epoch [4/5], Loss: 1.1778\n",
            "Epoch [5/5], Loss: 0.9944\n",
            "Epoch [6/5], Loss: 0.8713\n"
          ]
        },
        {
          "data": {
            "image/png": "[encoded data removed]",
            "text/plain": [
              "<Figure size 640x480 with 1 Axes>"
            ]
          },
          "metadata": {},
          "output_type": "display_data"
        }
      ],
      "source": [
        "num_classes = 10\n",
        "num_epochs = 5\n",
        "batch_size = 64\n",
        "learning_rate = 0.03\n",
        "\n",
        "model = VGG16(10).to(device)\n",
        "optimizer = torch.optim.SGD(model.parameters(), lr=learning_rate)\n",
        "loss_fn = nn.CrossEntropyLoss()\n",
        "\n",
        "losses = training_loop(\n",
        "    n_epochs = num_epochs,\n",
        "    optimizer = optimizer,\n",
        "    model = model,\n",
        "    loss_fn = loss_fn,\n",
        "    train_loader = train_loader,\n",
        "    val_loader = test_loader\n",
        ")\n",
        "plot_loss(losses, learning_rate, num_epochs)"
      ]
    },
    {
      "cell_type": "markdown",
      "metadata": {
        "id": "zMFwV-QtZ1JS"
      },
      "source": [
        "Chia tập train/test tỉ lệ 80/20, tính các chỉ số accuracy, recall, f1-score trên tập test."
      ]
    },
    {
      "cell_type": "code",
      "execution_count": 110,
      "metadata": {
        "id": "g-vjJDjOahas"
      },
      "outputs": [],
      "source": [
        "with torch.no_grad():\n",
        "    predictions = []\n",
        "    labels_l = []\n",
        "    correct = 0\n",
        "    total = 0\n",
        "    for images, labels in test_loader:\n",
        "        images = images.to(device)\n",
        "        labels = labels.to(device)\n",
        "        outputs = model(images)\n",
        "        _, predicted = torch.max(outputs.data, 1)\n",
        "        total += labels.size(0)\n",
        "        correct += (predicted == labels).sum().item()\n",
        "        predictions.append(predicted.item())\n",
        "        labels_l.append(labels.item())\n",
        "        del images, labels, outputs"
      ]
    },
    {
      "cell_type": "code",
      "execution_count": 112,
      "metadata": {
        "colab": {
          "base_uri": "https://localhost:8080/"
        },
        "id": "3R7Acfe0a6p7",
        "outputId": "35df1b0d-a5d1-4955-806c-ab04ad212b4e"
      },
      "outputs": [
        {
          "name": "stdout",
          "output_type": "stream",
          "text": [
            "              precision    recall  f1-score   support\n",
            "\n",
            "           0       0.95      0.31      0.47      3085\n",
            "           1       0.79      0.74      0.76      1065\n",
            "           2       0.46      0.56      0.51       829\n",
            "           3       0.27      0.60      0.37       442\n",
            "           4       0.53      0.62      0.57       845\n",
            "           5       0.57      0.62      0.59       921\n",
            "           6       0.49      0.89      0.63       553\n",
            "           7       0.60      0.80      0.68       745\n",
            "           8       0.56      0.74      0.64       749\n",
            "           9       0.58      0.75      0.65       766\n",
            "\n",
            "    accuracy                           0.58     10000\n",
            "   macro avg       0.58      0.66      0.59     10000\n",
            "weighted avg       0.68      0.58      0.57     10000\n",
            "\n"
          ]
        }
      ],
      "source": [
        "from sklearn.metrics import classification_report\n",
        "print(classification_report(predictions, labels_l))"
      ]
    },
    {
      "cell_type": "code",
      "execution_count": null,
      "metadata": {
        "id": "vJsKNN4FsoSk"
      },
      "outputs": [],
      "source": []
    }
  ],
  "metadata": {
    "accelerator": "GPU",
    "colab": {
      "gpuType": "T4",
      "provenance": []
    },
    "kernelspec": {
      "display_name": "Python 3",
      "name": "python3"
    },
    "language_info": {
      "name": "python"
    }
  },
  "nbformat": 4,
  "nbformat_minor": 0
}
